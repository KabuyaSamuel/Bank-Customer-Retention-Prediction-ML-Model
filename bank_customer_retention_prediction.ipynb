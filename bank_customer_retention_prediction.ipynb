{
 "cells": [
  {
   "cell_type": "markdown",
   "metadata": {},
   "source": [
    "## Week 6 - Bank Customer Retention Prediction\n",
    "\n",
    "In this assignment, you will build a Machine Learning model to predict whether a bank customer is likely to CHURN (i.e., exit) or not based on various features such as credit score, age, tenure, and more. \n",
    "\n",
    "The dataset contains information about the customers, including their demographics, banking behaviors, and whether they have exited the bank (the label to be predicted).. \n"
   ]
  },
  {
   "cell_type": "code",
   "execution_count": 1,
   "metadata": {},
   "outputs": [],
   "source": [
    "import pandas as pd\n",
    "import numpy as np\n",
    "import os\n",
    "from sklearn.model_selection import train_test_split, GridSearchCV\n",
    "from sklearn.linear_model import  LogisticRegression\n",
    "from sklearn.preprocessing import StandardScaler, OneHotEncoder\n",
    "from sklearn.metrics import accuracy_score, precision_score, recall_score\n",
    "from sklearn.compose import ColumnTransformer\n",
    "from sklearn.pipeline import Pipeline\n",
    "%matplotlib inline\n"
   ]
  },
  {
   "cell_type": "markdown",
   "metadata": {},
   "source": [
    "**Question 1:** Load the bank customer retention dataset into a variable called `customer_retention_df`. Next, write a function called `check_data` to check if the data has been loaded successfully.\n",
    "\n",
    "**Question 1.1:** Remove the `RowNumber` column. Then, explore the dataset to understand the features, data types, and potential missing values."
   ]
  },
  {
   "cell_type": "code",
   "execution_count": 2,
   "metadata": {
    "tags": []
   },
   "outputs": [
    {
     "name": "stdout",
     "output_type": "stream",
     "text": [
      "Data loading successful. Here are the first few rows of the dataset:\n",
      "   CustomerId   Surname  CreditScore Geography  Gender  Age  Tenure  \\\n",
      "0    15634602  Hargrave          619    France  Female   42       2   \n",
      "1    15647311      Hill          608     Spain  Female   41       1   \n",
      "2    15619304      Onio          502    France  Female   42       8   \n",
      "3    15701354      Boni          699    France  Female   39       1   \n",
      "4    15737888  Mitchell          850     Spain  Female   43       2   \n",
      "\n",
      "     Balance  NumOfProducts  HasCrCard  IsActiveMember  EstimatedSalary  \\\n",
      "0       0.00              1          1               1        101348.88   \n",
      "1   83807.86              1          0               1        112542.58   \n",
      "2  159660.80              3          1               0        113931.57   \n",
      "3       0.00              2          0               0         93826.63   \n",
      "4  125510.82              1          1               1         79084.10   \n",
      "\n",
      "   Exited  \n",
      "0       1  \n",
      "1       0  \n",
      "2       1  \n",
      "3       0  \n",
      "4       0  \n"
     ]
    }
   ],
   "source": [
    "# load the customer retention dataset\n",
    "customer_retention_df = pd.read_csv('bank_customer_retention_prediction.csv')\n",
    "\n",
    "# write a function called `check_data` to check data loading is successful\n",
    "def check_data():\n",
    "    # Check if the DataFrame is empty\n",
    "    if customer_retention_df.empty:\n",
    "        print(\"Data loading unsuccessful. DataFrame is empty.\")\n",
    "    else:\n",
    "        # Remove the 'RowNumber' column\n",
    "        customer_retention_df.drop(columns=['RowNumber'], inplace=True, errors='ignore')\n",
    "\n",
    "        # Display the first few rows of the DataFrame\n",
    "        print(\"Data loading successful. Here are the first few rows of the dataset:\")\n",
    "        print(customer_retention_df.head())\n",
    "\n",
    "# Call the check_data function\n",
    "check_data()"
   ]
  },
  {
   "cell_type": "markdown",
   "metadata": {},
   "source": [
    "**Question 2:** Preprocess the data by handling missing values, converting categorical variables, and scaling numerical features (if needed).\n",
    "\n",
    "**Note**: assign your final preprocessed dataset to a variable called `processed_customer_retention_df`. Failure to do this might result in you not getting a score for this question.\n"
   ]
  },
  {
   "cell_type": "code",
   "execution_count": 3,
   "metadata": {
    "tags": []
   },
   "outputs": [
    {
     "name": "stdout",
     "output_type": "stream",
     "text": [
      "Processed DataFrame:\n"
     ]
    },
    {
     "data": {
      "text/html": [
       "<div>\n",
       "<style scoped>\n",
       "    .dataframe tbody tr th:only-of-type {\n",
       "        vertical-align: middle;\n",
       "    }\n",
       "\n",
       "    .dataframe tbody tr th {\n",
       "        vertical-align: top;\n",
       "    }\n",
       "\n",
       "    .dataframe thead th {\n",
       "        text-align: right;\n",
       "    }\n",
       "</style>\n",
       "<table border=\"1\" class=\"dataframe\">\n",
       "  <thead>\n",
       "    <tr style=\"text-align: right;\">\n",
       "      <th></th>\n",
       "      <th>0</th>\n",
       "      <th>1</th>\n",
       "      <th>2</th>\n",
       "      <th>3</th>\n",
       "      <th>4</th>\n",
       "      <th>5</th>\n",
       "      <th>6</th>\n",
       "      <th>7</th>\n",
       "      <th>8</th>\n",
       "      <th>9</th>\n",
       "      <th>10</th>\n",
       "      <th>Exited</th>\n",
       "    </tr>\n",
       "  </thead>\n",
       "  <tbody>\n",
       "    <tr>\n",
       "      <th>0</th>\n",
       "      <td>-0.326221</td>\n",
       "      <td>0.293517</td>\n",
       "      <td>-1.041760</td>\n",
       "      <td>-1.225848</td>\n",
       "      <td>-0.911583</td>\n",
       "      <td>0.646092</td>\n",
       "      <td>0.970243</td>\n",
       "      <td>0.021886</td>\n",
       "      <td>0.0</td>\n",
       "      <td>0.0</td>\n",
       "      <td>0.0</td>\n",
       "      <td>1</td>\n",
       "    </tr>\n",
       "    <tr>\n",
       "      <th>1</th>\n",
       "      <td>-0.440036</td>\n",
       "      <td>0.198164</td>\n",
       "      <td>-1.387538</td>\n",
       "      <td>0.117350</td>\n",
       "      <td>-0.911583</td>\n",
       "      <td>-1.547768</td>\n",
       "      <td>0.970243</td>\n",
       "      <td>0.216534</td>\n",
       "      <td>0.0</td>\n",
       "      <td>1.0</td>\n",
       "      <td>0.0</td>\n",
       "      <td>0</td>\n",
       "    </tr>\n",
       "    <tr>\n",
       "      <th>2</th>\n",
       "      <td>-1.536794</td>\n",
       "      <td>0.293517</td>\n",
       "      <td>1.032908</td>\n",
       "      <td>1.333053</td>\n",
       "      <td>2.527057</td>\n",
       "      <td>0.646092</td>\n",
       "      <td>-1.030670</td>\n",
       "      <td>0.240687</td>\n",
       "      <td>0.0</td>\n",
       "      <td>0.0</td>\n",
       "      <td>0.0</td>\n",
       "      <td>1</td>\n",
       "    </tr>\n",
       "    <tr>\n",
       "      <th>3</th>\n",
       "      <td>0.501521</td>\n",
       "      <td>0.007457</td>\n",
       "      <td>-1.387538</td>\n",
       "      <td>-1.225848</td>\n",
       "      <td>0.807737</td>\n",
       "      <td>-1.547768</td>\n",
       "      <td>-1.030670</td>\n",
       "      <td>-0.108918</td>\n",
       "      <td>0.0</td>\n",
       "      <td>0.0</td>\n",
       "      <td>0.0</td>\n",
       "      <td>0</td>\n",
       "    </tr>\n",
       "    <tr>\n",
       "      <th>4</th>\n",
       "      <td>2.063884</td>\n",
       "      <td>0.388871</td>\n",
       "      <td>-1.041760</td>\n",
       "      <td>0.785728</td>\n",
       "      <td>-0.911583</td>\n",
       "      <td>0.646092</td>\n",
       "      <td>0.970243</td>\n",
       "      <td>-0.365276</td>\n",
       "      <td>0.0</td>\n",
       "      <td>1.0</td>\n",
       "      <td>0.0</td>\n",
       "      <td>0</td>\n",
       "    </tr>\n",
       "  </tbody>\n",
       "</table>\n",
       "</div>"
      ],
      "text/plain": [
       "          0         1         2         3         4         5         6  \\\n",
       "0 -0.326221  0.293517 -1.041760 -1.225848 -0.911583  0.646092  0.970243   \n",
       "1 -0.440036  0.198164 -1.387538  0.117350 -0.911583 -1.547768  0.970243   \n",
       "2 -1.536794  0.293517  1.032908  1.333053  2.527057  0.646092 -1.030670   \n",
       "3  0.501521  0.007457 -1.387538 -1.225848  0.807737 -1.547768 -1.030670   \n",
       "4  2.063884  0.388871 -1.041760  0.785728 -0.911583  0.646092  0.970243   \n",
       "\n",
       "          7    8    9   10  Exited  \n",
       "0  0.021886  0.0  0.0  0.0       1  \n",
       "1  0.216534  0.0  1.0  0.0       0  \n",
       "2  0.240687  0.0  0.0  0.0       1  \n",
       "3 -0.108918  0.0  0.0  0.0       0  \n",
       "4 -0.365276  0.0  1.0  0.0       0  "
      ]
     },
     "execution_count": 3,
     "metadata": {},
     "output_type": "execute_result"
    }
   ],
   "source": [
    "# Drop unnecessary columns\n",
    "customer_retention_df.drop(columns=['RowNumber', 'CustomerId', 'Surname'], inplace=True, errors='ignore')\n",
    "\n",
    "# Separate features and target variable\n",
    "X = customer_retention_df.drop(columns=['Exited'])\n",
    "y = customer_retention_df['Exited']\n",
    "\n",
    "# Identify categorical and numerical features\n",
    "categorical_features = ['Geography', 'Gender']\n",
    "numerical_features = X.select_dtypes(include=['int64', 'float64']).columns.tolist()\n",
    "\n",
    "# Create transformers for numerical and categorical features\n",
    "numerical_transformer = StandardScaler()\n",
    "categorical_transformer = OneHotEncoder(drop='first')\n",
    "\n",
    "# Apply transformers using ColumnTransformer\n",
    "preprocessor = ColumnTransformer(\n",
    "    transformers=[\n",
    "        ('num', numerical_transformer, numerical_features),\n",
    "        ('cat', categorical_transformer, categorical_features)\n",
    "    ])\n",
    "\n",
    "# Build the preprocessing pipeline\n",
    "preprocessing_pipeline = Pipeline(steps=[('preprocessor', preprocessor)])\n",
    "\n",
    "# Apply the preprocessing pipeline to the features\n",
    "processed_features = preprocessing_pipeline.fit_transform(X)\n",
    "\n",
    "# Concatenate the preprocessed features with the target variable\n",
    "processed_customer_retention_df = pd.concat([pd.DataFrame(processed_features), y], axis=1)\n",
    "\n",
    "# Display the first few rows of the processed DataFrame\n",
    "print(\"Processed DataFrame:\")\n",
    "processed_customer_retention_df.head()"
   ]
  },
  {
   "cell_type": "markdown",
   "metadata": {},
   "source": [
    "**Question 3:** Split your processed dataset into training and testing set by using `80:20` splitting ratio. You can use **X** and **y** variable to store your splitted dataset.\n",
    "\n",
    "**Question 3.1:** Train an ML model using `LogisticRegression` to predict customer churn/retention. \n",
    "\n",
    "**Note**: Assign your model to a variable called `customer_retention_model`. Failure to do this might result in you not getting a score for this question."
   ]
  },
  {
   "cell_type": "code",
   "execution_count": 4,
   "metadata": {
    "tags": []
   },
   "outputs": [
    {
     "name": "stdout",
     "output_type": "stream",
     "text": [
      "Accuracy: 0.8115\n"
     ]
    }
   ],
   "source": [
    "# Prepare the data for training\n",
    "\n",
    "# Independent variables (features)\n",
    "X = processed_customer_retention_df.drop('Exited', axis=1)\n",
    "\n",
    "# Dependent variable (target)\n",
    "y = processed_customer_retention_df['Exited']\n",
    "\n",
    "# split your dataset into training and testing\n",
    "X_train, X_test, y_train, y_test = train_test_split(X, y, test_size=0.2, random_state=42)\n",
    "\n",
    "# Create and train the  logistic  regression model\n",
    "customer_retention_model = LogisticRegression(random_state=42)\n",
    "customer_retention_model.fit(X_train, y_train)\n",
    "\n",
    "# Evaluate the model on the test set\n",
    "y_pred = customer_retention_model.predict(X_test)\n",
    "\n",
    "# Print model evaluation metrics\n",
    "accuracy = accuracy_score(y_test, y_pred)\n",
    "print(f\"Accuracy: {accuracy:.4f}\")\n"
   ]
  },
  {
   "cell_type": "markdown",
   "metadata": {},
   "source": [
    "**Question 4:** Predict using the developed model and evaluate the model using acuracy. The evaluation is already completed for you.\n",
    "\n",
    "**Note**: Assign your prediction to a variable called `prediction`. Failure to do this might result in you not getting a score for this question."
   ]
  },
  {
   "cell_type": "code",
   "execution_count": 5,
   "metadata": {
    "tags": []
   },
   "outputs": [
    {
     "name": "stdout",
     "output_type": "stream",
     "text": [
      "Accuracy: 0.8115\n"
     ]
    },
    {
     "data": {
      "text/plain": [
       "array([0, 0, 0, ..., 0, 0, 0], dtype=int64)"
      ]
     },
     "execution_count": 5,
     "metadata": {},
     "output_type": "execute_result"
    }
   ],
   "source": [
    "\n",
    "# predict using the model\n",
    "prediction = customer_retention_model.predict(X_test)\n",
    "\n",
    "# evaluate the model using accuracy\n",
    "accuracy = customer_retention_model.score(X_test, y_test)\n",
    "\n",
    "# Display the accuracy\n",
    "print(f\"Accuracy: {accuracy:.4f}\")\n",
    "\n",
    "prediction"
   ]
  },
  {
   "cell_type": "markdown",
   "metadata": {},
   "source": [
    "Evaluate the model's performance on the testing data using precision & recall"
   ]
  },
  {
   "cell_type": "code",
   "execution_count": 6,
   "metadata": {},
   "outputs": [
    {
     "name": "stdout",
     "output_type": "stream",
     "text": [
      "Precision: 0.5563\n",
      "Recall: 0.2010\n"
     ]
    }
   ],
   "source": [
    "y_pred = customer_retention_model.predict(X_test)\n",
    "\n",
    "# Calculate precision, recall, and F1 score\n",
    "precision = precision_score(y_test, y_pred, zero_division=1)\n",
    "recall = recall_score(y_test, y_pred, zero_division=1)\n",
    "\n",
    "# Display precision & recall\n",
    "print(f\"Precision: {precision:.4f}\")\n",
    "print(f\"Recall: {recall:.4f}\")\n"
   ]
  },
  {
   "cell_type": "markdown",
   "metadata": {},
   "source": [
    "Fine tuning the model using Grid Search to find optimal hyperparameters:"
   ]
  },
  {
   "cell_type": "code",
   "execution_count": 7,
   "metadata": {},
   "outputs": [
    {
     "name": "stdout",
     "output_type": "stream",
     "text": [
      "Best Hyperparameters: {'C': 100, 'penalty': 'l2'}\n",
      "Tuned Model Accuracy: 0.8110\n"
     ]
    }
   ],
   "source": [
    "# Define hyperparameters to search\n",
    "param_grid = {\n",
    "    'C': [0.001, 0.01, 0.1, 1, 10, 100],\n",
    "    'penalty': ['l2']\n",
    "}\n",
    "# Create logistic regression model\n",
    "logistic_regression = LogisticRegression(random_state=42)\n",
    "\n",
    "# Perform Grid Search with cross-validation\n",
    "grid_search = GridSearchCV(logistic_regression, param_grid, cv=5, scoring='accuracy')\n",
    "grid_search.fit(X_train, y_train)\n",
    "\n",
    "# Get the best parameters\n",
    "best_params = grid_search.best_params_\n",
    "print(\"Best Hyperparameters:\", best_params)\n",
    "\n",
    "# Use the best model for predictions\n",
    "best_model = grid_search.best_estimator_\n",
    "y_pred_tuned = best_model.predict(X_test)\n",
    "\n",
    "# Evaluate the tuned model\n",
    "accuracy_tuned = accuracy_score(y_test, y_pred_tuned)\n",
    "print(f\"Tuned Model Accuracy: {accuracy_tuned:.4f}\")\n"
   ]
  },
  {
   "cell_type": "markdown",
   "metadata": {},
   "source": [
    "Precision of the fine tuned model. "
   ]
  },
  {
   "cell_type": "code",
   "execution_count": 8,
   "metadata": {},
   "outputs": [
    {
     "name": "stdout",
     "output_type": "stream",
     "text": [
      "Tuned Model Precision: 0.5524\n"
     ]
    }
   ],
   "source": [
    "y_pred_tuned = best_model.predict(X_test)\n",
    "\n",
    "# Calculate precision for the fine-tuned model\n",
    "precision_tuned = precision_score(y_test, y_pred_tuned, zero_division=1)\n",
    "\n",
    "# Display precision for the fine-tuned model\n",
    "print(f\"Tuned Model Precision: {precision_tuned:.4f}\")"
   ]
  },
  {
   "cell_type": "markdown",
   "metadata": {},
   "source": [
    "<!-- BEGIN QUESTION -->\n",
    "\n",
    "**Question 5:** What insight can you derive from this data?"
   ]
  },
  {
   "cell_type": "markdown",
   "metadata": {},
   "source": [
    "Model Performance:\n",
    "\n",
    "The models exhibit a precision of 0.5524, indicating that when they predict a customer will exit, they are correct about 55.24% of the time. This is a moderate precision level, suggesting a reasonable ability to avoid false positives.\n",
    "\n",
    "However, the recall is relatively low at 0.2010, meaning the models are capturing only 20.10% of all actual customer exits. This indicates a challenge in effectively identifying customers who truly exit the bank.\n",
    "\n",
    "Implications:\n",
    "\n",
    "The precision-focused approach of the models results in a trade-off between precision and recall. The models are cautious in predicting customer churn, and when they do make such predictions, they are correct over half the time. However, this caution leads to missing a significant portion of actual customer exits.\n",
    "\n",
    "Equal Accuracy: Both the initial and fine-tuned models share the same accuracy of 0.8110. This suggests that, overall, they perform equally well in terms of correctly predicting both positive and negative instances.\n",
    "\n",
    "Threshold Impact: The precision-focused approach is evident in the model's emphasis on high precision but at the cost of lower recall. "
   ]
  },
  {
   "cell_type": "markdown",
   "metadata": {},
   "source": [
    "<!-- END QUESTION -->\n",
    "\n"
   ]
  }
 ],
 "metadata": {
  "kernelspec": {
   "display_name": "Python 3",
   "language": "python",
   "name": "python3"
  },
  "language_info": {
   "codemirror_mode": {
    "name": "ipython",
    "version": 3
   },
   "file_extension": ".py",
   "mimetype": "text/x-python",
   "name": "python",
   "nbconvert_exporter": "python",
   "pygments_lexer": "ipython3",
   "version": "3.12.2"
  },
  "otter": {
   "OK_FORMAT": true,
   "tests": {
    "q1": {
     "name": "q1",
     "points": 2,
     "suites": [
      {
       "cases": [],
       "scored": true,
       "setup": "",
       "teardown": "",
       "type": "doctest"
      }
     ]
    }
   }
  },
  "varInspector": {
   "cols": {
    "lenName": 16,
    "lenType": 16,
    "lenVar": 40
   },
   "kernels_config": {
    "python": {
     "delete_cmd_postfix": "",
     "delete_cmd_prefix": "del ",
     "library": "var_list.py",
     "varRefreshCmd": "print(var_dic_list())"
    },
    "r": {
     "delete_cmd_postfix": ") ",
     "delete_cmd_prefix": "rm(",
     "library": "var_list.r",
     "varRefreshCmd": "cat(var_dic_list()) "
    }
   },
   "types_to_exclude": [
    "module",
    "function",
    "builtin_function_or_method",
    "instance",
    "_Feature"
   ],
   "window_display": false
  },
  "vscode": {
   "interpreter": {
    "hash": "b0fa6594d8f4cbf19f97940f81e996739fb7646882a419484c72d19e05852a7e"
   }
  }
 },
 "nbformat": 4,
 "nbformat_minor": 4
}
